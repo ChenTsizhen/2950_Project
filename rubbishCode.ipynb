{
 "cells": [
  {
   "cell_type": "code",
   "execution_count": null,
   "metadata": {},
   "outputs": [],
   "source": [
    "# helper method for col cleaning\n",
    "years = np.linspace(2015, 2020, 6, dtype=int).tolist()\n",
    "table4 = []\n",
    "for y in years:\n",
    "    n = y-2015\n",
    "    table4_path='./Data_%s/CSV_files_%s/Table_4_Offenses_Offense_Type_by_Bias_Motivation_%s.csv'%(y,y,y)\n",
    "    table4.append(pd.read_csv(table4_path, thousands=','))\n",
    "table4[5]\n",
    "\n",
    "base_col = table4[5].columns.tolist()\n",
    "base_row = table4[5]['Bias_motivation'].tolist()\n",
    "print(base_row)\n",
    "\n",
    "i = 2015\n",
    "for t in table4:\n",
    "    for r in t['Bias_motivation']:\n",
    "        if r not in base_row: print ('row: '+r,i)\n",
    "    i += 1\n",
    "\n",
    "j = 2015\n",
    "for t in table4:\n",
    "    for c in t.columns:\n",
    "        if c not in base_col: print ('col: '+c,j)\n",
    "    j += 1"
   ]
  },
  {
   "cell_type": "code",
   "execution_count": null,
   "metadata": {},
   "outputs": [],
   "source": [
    "# regression\n",
    "def reg(df, cat):\n",
    "    X = df[['Year', cat]]\n",
    "    y = df[['Total_offenses']]\n",
    "    m1 = LinearRegression().fit(X,y)\n",
    "    yhat = m1.predict(X)\n",
    "    print('intercept: '+str(m1.intercept_))\n",
    "    print('coefficient: '+str(m1.coef_))\n",
    "    df[['Total_offenses']] = yhat\n",
    "    ax = sns.scatterplot(data=df, x='Year', y='Total_offenses', hue=cat)\n",
    "    sns.move_legend(ax, 'upper left', bbox_to_anchor=(1,1))\n",
    "    plt.show()\n",
    "\n",
    "def reg_plot(cats):\n",
    "    cat_list = cats.to_list()\n",
    "    cat_list = list(dict.fromkeys(cat_list))\n",
    "    for cat in cat_list:\n",
    "        cat_name = 'is_' + str(cat)\n",
    "        reg(table_1, cat_name)"
   ]
  },
  {
   "cell_type": "code",
   "execution_count": null,
   "metadata": {},
   "outputs": [],
   "source": [
    "# pie charts\n",
    "def plot_pie(df):\n",
    "    df = df.drop(['Bias_motivation', 'Total_offenses', 'Year', 'Category'],axis=1)\n",
    "\n",
    "    data = df.iloc[2,:].to_numpy().tolist()\n",
    "    labels = df.columns.to_list()\n",
    "    colors = sns.color_palette('pastel')[0:15]\n",
    "    fig, ax = plt.subplots()\n",
    "\n",
    "    # plt.pie(data, labels = labels, colors = colors, autopct='%.1f%%')\n",
    "    l = ax.pie(data, autopct='%.1f%%', startangle=-90)\n",
    "\n",
    "    for label, t in zip(labels, l[1]):\n",
    "        x, y = t.get_position()\n",
    "        angle = int(math.degrees(math.atan2(y, x)))\n",
    "        ha = \"left\"\n",
    "\n",
    "        if x<0:\n",
    "            angle -= 180\n",
    "            ha = \"right\"\n",
    "\n",
    "        plt.annotate(label, xy=(x,y), rotation=angle, ha=ha, va=\"center\", rotation_mode=\"anchor\", size=8)\n",
    "\n",
    "    plt.show()\n",
    "    \n",
    "table_all.groupby('Year').apply(plot_pie)"
   ]
  },
  {
   "cell_type": "code",
   "execution_count": null,
   "metadata": {},
   "outputs": [],
   "source": [
    "# wrong initial appraoch\n",
    "%sql offense_type << SELECT * FROM table1_19 FULL OUTER JOIN table4_19 ON table1_19.Offenses = table4_19.Total_Offenses\n",
    "\n",
    "offense_type = offense_type.loc[:,~offense_type.columns.duplicated()]\n",
    "offense_type = offense_type.drop(['Total_offenses'],axis=1)\n",
    "offense_type.head()\n",
    "\n",
    "t4_19 = table4_19.drop(['Bias_motivation', 'Total_offenses'],axis=1)\n",
    "sns.barplot(data=t4_19.iloc[1:2], orient = 'h')\n",
    "plt.show()\n",
    "\n",
    "# Simplify Table 4\n",
    "%sql table4_16_type << SELECT Bias_motivation, Total_offenses AS '2016' FROM table4_16 WHERE Bias_motivation IN('Race/Ethnicity/Ancestry:', 'Religion:', 'Sexual Orientation:', 'Disability:', 'Gender:', 'Gender Identity:', 'Multiple-Bias Incidents')\n",
    "%sql table4_17_type << SELECT Bias_motivation, Total_offenses AS '2017' FROM table4_17 WHERE Bias_motivation IN('Race/Ethnicity/Ancestry:', 'Religion:', 'Sexual Orientation:', 'Disability:', 'Gender:', 'Gender Identity:', 'Multiple-Bias Incidents')\n",
    "%sql table4_18_type << SELECT Bias_motivation, Total_offenses AS '2018' FROM table4_18 WHERE Bias_motivation IN('Race/Ethnicity/Ancestry:', 'Religion:', 'Sexual Orientation:', 'Disability:', 'Gender:', 'Gender Identity:', 'Multiple-Bias Incidents')\n",
    "%sql table4_19_type << SELECT Bias_motivation, Total_offenses AS '2019' FROM table4_19 WHERE Bias_motivation IN('Race/Ethnicity/Ancestry:', 'Religion:', 'Sexual Orientation:', 'Disability:', 'Gender:', 'Gender Identity:', 'Multiple-Bias Incidents')\n",
    "\n",
    "# Combine Table 4 from 2016-2019\n",
    "combined_table4 = pd.concat([table4_16_type, table4_17_type, table4_18_type, table4_19_type], axis=1)\n",
    "combined_table4 = combined_table4.loc[:,~combined_table4.columns.duplicated()].copy()\n",
    "combined_table4\n",
    "\n",
    "tidy_table4['Year'] = tidy_table4['Year'].astype(int)\n",
    "sns.lmplot(x='Year', y='Total_offenses', data=tidy_table4, hue='Bias_motivation')\n",
    "plt.show()\n",
    "\n",
    "def plot_by_bm(df):\n",
    "    df['Year'] = df['Year'].astype(float)\n",
    "    sns.lmplot(x='Year', y='Total_offenses', data=df, hue='Bias_motivation')\n",
    "    plt.show()\n",
    "\n",
    "tidy_table4.groupby(['Bias_motivation']).apply(plot_by_bm)"
   ]
  },
  {
   "cell_type": "code",
   "execution_count": null,
   "metadata": {},
   "outputs": [],
   "source": [
    "# Plot output~one input groupy by State\n",
    "def plot_single(df, input):\n",
    "    sns.lmplot(x=input, y='Incidents',  col='State', data=df, hue='State')\n",
    "    plt.show()\n",
    "\n",
    "# Plot each input\n",
    "for i in input:\n",
    "    plot_single(table, i)"
   ]
  }
 ],
 "metadata": {
  "kernelspec": {
   "display_name": "Python 3.10.4 64-bit",
   "language": "python",
   "name": "python3"
  },
  "language_info": {
   "name": "python",
   "version": "3.10.4"
  },
  "orig_nbformat": 4,
  "vscode": {
   "interpreter": {
    "hash": "aee8b7b246df8f9039afb4144a1f6fd8d2ca17a180786b69acc140d282b71a49"
   }
  }
 },
 "nbformat": 4,
 "nbformat_minor": 2
}
